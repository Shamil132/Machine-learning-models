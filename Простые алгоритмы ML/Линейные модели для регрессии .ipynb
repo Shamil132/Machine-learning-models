{
 "cells": [
  {
   "cell_type": "markdown",
   "id": "075f547d",
   "metadata": {},
   "source": [
    "Если прогнозы, полученные с помощью прямой линии, сравнить с\n",
    "прогнозами KNeighborsRegressor (рис. 2.10), использование линии\n",
    "регрессии для получения прогнозов кажется очень строгим. Похоже, что\n",
    "62\n",
    "все мелкие детали данных не учитываются. В некотором смысле это\n",
    "верно. Мы видвигаем сильное (и в некоторой степени нереальное)\n",
    "предположение, что наша целевая переменная у является линейной\n",
    "комбинацией признаков. Однако анализ одномерных данных дает\n",
    "несколько искаженную картину. Для наборов данных с большим\n",
    "количеством признаков линейные модели могут быть очень полезны. В\n",
    "частности, если у вас количество признаков превышает количество точек\n",
    "данных для обучения, любую целевую переменную у можно прекрасно\n",
    "смоделировать (на обучающей выборке) в виде линейной функции."
   ]
  },
  {
   "cell_type": "markdown",
   "id": "39187e01",
   "metadata": {},
   "source": [
    "Существует различные виды линейных моделей для регрессии.\n",
    "Различие между этими моделями заключается в способе оценивания\n",
    "параметров модели w и b по обучающим данным и контроле сложности\n",
    "модели. Теперь мы рассмотрим наиболее популярные линейные модели\n",
    "для регрессии."
   ]
  },
  {
   "cell_type": "markdown",
   "id": "558ab779",
   "metadata": {},
   "source": [
    "# Линейный регрессия (метод наименьших квадратов)"
   ]
  },
  {
   "cell_type": "markdown",
   "id": "1f92ad08",
   "metadata": {},
   "source": [
    "Линейная регрессия находит параметры\n",
    "w и b, которые минимизируют среднеквадратическую ошибку (mean\n",
    "squared error) между спрогнозированными и фактическими ответами у в\n",
    "обучающем наборе"
   ]
  },
  {
   "cell_type": "code",
   "execution_count": 22,
   "id": "aab55040",
   "metadata": {},
   "outputs": [],
   "source": [
    "from sklearn.datasets import load_boston\n",
    "from sklearn.model_selection import train_test_split\n",
    "boston = load_boston()\n",
    "X_train, X_test, y_train, y_test = train_test_split(boston.data, boston.target, random_state=24)"
   ]
  },
  {
   "cell_type": "markdown",
   "id": "31aa0e95",
   "metadata": {},
   "source": [
    "Параметры «наклона» (w), также называемые весами или\n",
    "коэффициентами (coefficients), хранятся в атрибуте coef_, тогда как\n",
    "сдвиг (offset) или константа (intercept), обозначаемая как b, хранится в\n",
    "атрибуте intercept_:"
   ]
  },
  {
   "cell_type": "code",
   "execution_count": 18,
   "id": "a937a2b4",
   "metadata": {},
   "outputs": [
    {
     "name": "stdout",
     "output_type": "stream",
     "text": [
      "Правильность на обучающем наборе: 0.75\n",
      "Правильность на тестовом наборе: 0.69\n"
     ]
    }
   ],
   "source": [
    "from sklearn.linear_model import LinearRegression\n",
    "lr = LinearRegression().fit(X_train, y_train)\n",
    "print(\"Правильность на обучающем наборе: {:.2f}\".format(lr.score(X_train, y_train)))\n",
    "print(\"Правильность на тестовом наборе: {:.2f}\".format(lr.score(X_test, y_test)))"
   ]
  },
  {
   "cell_type": "code",
   "execution_count": 19,
   "id": "81de43e6",
   "metadata": {},
   "outputs": [
    {
     "name": "stdout",
     "output_type": "stream",
     "text": [
      "lr.coef_: \n",
      "[-5.10594462e-02  4.17629732e-02 -6.71758512e-03  2.97423286e+00\n",
      " -1.43617375e+01  4.29486456e+00 -7.21470856e-03 -1.42539988e+00\n",
      "  2.48641697e-01 -1.23390623e-02 -8.58249084e-01  1.04412872e-02\n",
      " -4.97967036e-01]\n",
      "lr.intercept_: \n",
      "30.175131465517868\n"
     ]
    }
   ],
   "source": [
    "print(\"lr.coef_: \\n{}\".format(lr.coef_))\n",
    "print(\"lr.intercept_: \\n{}\".format(lr.intercept_))"
   ]
  },
  {
   "cell_type": "markdown",
   "id": "948f894d",
   "metadata": {},
   "source": [
    "Атрибут intercept_ - это всегда отдельное число с плавающей точкой,\n",
    "тогда как атрибут coef_ - это массив NumPy, в котором каждому\n",
    "элементу соответствует входной признак."
   ]
  },
  {
   "cell_type": "markdown",
   "id": "81358b31",
   "metadata": {},
   "source": [
    "Для этого одномерного массива данных\n",
    "опасность переобучения невелика, поскольку модель очень проста (или\n",
    "строга). Однако для высокоразмерных наборов данных (наборов данных\n",
    "с большим количеством признаков) линейные модели становятся более\n",
    "сложными и существует более высокая вероятность переобучения."
   ]
  },
  {
   "cell_type": "markdown",
   "id": "71e47216",
   "metadata": {},
   "source": [
    "Давайте посмотрим, как LinearRegression сработает на более сложном\n",
    "наборе данных, например, на наборе Boston Housing. Вспомним, что этот\n",
    "набор данных имеет 506 примеров (наблюдений) и 105 производных\n",
    "признаков."
   ]
  },
  {
   "cell_type": "code",
   "execution_count": 43,
   "id": "c76d8284",
   "metadata": {
    "collapsed": true
   },
   "outputs": [
    {
     "name": "stderr",
     "output_type": "stream",
     "text": [
      "C:\\Users\\Asus_Shamil\\AppData\\Local\\Programs\\Python\\Python310\\lib\\site-packages\\sklearn\\utils\\deprecation.py:87: FutureWarning: Function load_boston is deprecated; `load_boston` is deprecated in 1.0 and will be removed in 1.2.\n",
      "\n",
      "    The Boston housing prices dataset has an ethical problem. You can refer to\n",
      "    the documentation of this function for further details.\n",
      "\n",
      "    The scikit-learn maintainers therefore strongly discourage the use of this\n",
      "    dataset unless the purpose of the code is to study and educate about\n",
      "    ethical issues in data science and machine learning.\n",
      "\n",
      "    In this special case, you can fetch the dataset from the original\n",
      "    source::\n",
      "\n",
      "        import pandas as pd\n",
      "        import numpy as np\n",
      "\n",
      "        data_url = \"http://lib.stat.cmu.edu/datasets/boston\"\n",
      "        raw_df = pd.read_csv(data_url, sep=\"\\s+\", skiprows=22, header=None)\n",
      "        data = np.hstack([raw_df.values[::2, :], raw_df.values[1::2, :2]])\n",
      "        target = raw_df.values[1::2, 2]\n",
      "\n",
      "    Alternative datasets include the California housing dataset (i.e.\n",
      "    :func:`~sklearn.datasets.fetch_california_housing`) and the Ames housing\n",
      "    dataset. You can load the datasets as follows::\n",
      "\n",
      "        from sklearn.datasets import fetch_california_housing\n",
      "        housing = fetch_california_housing()\n",
      "\n",
      "    for the California housing dataset and::\n",
      "\n",
      "        from sklearn.datasets import fetch_openml\n",
      "        housing = fetch_openml(name=\"house_prices\", as_frame=True)\n",
      "\n",
      "    for the Ames housing dataset.\n",
      "  warnings.warn(msg, category=FutureWarning)\n"
     ]
    }
   ],
   "source": [
    "import mglearn\n",
    "X, y = mglearn.datasets.load_extended_boston()\n",
    "X_train, X_test, y_train, y_test = train_test_split(X, y, random_state=0)\n",
    "lr = LinearRegression().fit(X_train, y_train)"
   ]
  },
  {
   "cell_type": "code",
   "execution_count": 44,
   "id": "35b90478",
   "metadata": {},
   "outputs": [
    {
     "name": "stdout",
     "output_type": "stream",
     "text": [
      "Правильность на обучающем наборе: 0.95\n",
      "Правильность на тестовом наборе: 0.61\n"
     ]
    }
   ],
   "source": [
    "print(\"Правильность на обучающем наборе: {:.2f}\".format(lr.score(X_train, y_train)))\n",
    "print(\"Правильность на тестовом наборе: {:.2f}\".format(lr.score(X_test, y_test)))"
   ]
  },
  {
   "cell_type": "markdown",
   "id": "75b0f65e",
   "metadata": {},
   "source": [
    "Это несоответствие между правильностью на обучающем наборе и\n",
    "правильностью на тестовом наборе является явным признаком\n",
    "переобучения и поэтому мы должны попытаться найти модель, которая\n",
    "позволит нам контролировать сложность"
   ]
  },
  {
   "cell_type": "markdown",
   "id": "bf24292b",
   "metadata": {},
   "source": [
    "# Гребневая регрессия (L2 регуляризация)"
   ]
  },
  {
   "cell_type": "code",
   "execution_count": 46,
   "id": "fddc23ae",
   "metadata": {},
   "outputs": [
    {
     "name": "stdout",
     "output_type": "stream",
     "text": [
      "Правильность на обучающем наборе: 0.89\n",
      "Правильность на тестовом наборе: 0.75\n"
     ]
    }
   ],
   "source": [
    "from sklearn.linear_model import Ridge\n",
    "ridge = Ridge().fit(X_train, y_train)\n",
    "print(\"Правильность на обучающем наборе: {:.2f}\".format(ridge.score(X_train, y_train)))\n",
    "print(\"Правильность на тестовом наборе: {:.2f}\".format(ridge.score(X_test, y_test)))"
   ]
  },
  {
   "cell_type": "markdown",
   "id": "4a46fc78",
   "metadata": {},
   "source": [
    "Увеличение alpha заставляет коэффициенты сжиматься\n",
    "до близких к нулю значений, что снижает качество работы модели на\n",
    "обучающем наборе, но может улучшить ее обобщающую способность.\n",
    "Например:"
   ]
  },
  {
   "cell_type": "code",
   "execution_count": 47,
   "id": "a2427837",
   "metadata": {},
   "outputs": [
    {
     "name": "stdout",
     "output_type": "stream",
     "text": [
      "Правильность на обучающем наборе: 0.79\n",
      "Правильность на тестовом наборе: 0.64\n"
     ]
    }
   ],
   "source": [
    "ridge10 = Ridge(alpha=10).fit(X_train, y_train)\n",
    "print(\"Правильность на обучающем наборе: {:.2f}\".format(ridge10.score(X_train, y_train)))\n",
    "print(\"Правильность на тестовом наборе: {:.2f}\".format(ridge10.score(X_test, y_test)))\n"
   ]
  },
  {
   "cell_type": "markdown",
   "id": "5ce88ec6",
   "metadata": {},
   "source": [
    "# Лассо (L1 регуляризация)"
   ]
  },
  {
   "cell_type": "markdown",
   "id": "1160fe0e",
   "metadata": {},
   "source": [
    "Альтернативой Ridge как метода регуляризации линейной регрессии\n",
    "является Lasso. Как и гребневая регрессия, лассо также сжимает\n",
    "коэффициенты до близких к нулю значений, но несколько иным\n",
    "способом, называемым L1 регуляризацией.13 Результат L1 регуляризации\n",
    "заключается в том, что при использовании лассо некоторые\n",
    "коэффициенты становятся равны точно нулю. "
   ]
  },
  {
   "cell_type": "code",
   "execution_count": 50,
   "id": "5a01d7fa",
   "metadata": {},
   "outputs": [],
   "source": [
    "from sklearn.linear_model import Lasso\n",
    "import numpy as np"
   ]
  },
  {
   "cell_type": "code",
   "execution_count": 52,
   "id": "186a2db7",
   "metadata": {},
   "outputs": [
    {
     "name": "stdout",
     "output_type": "stream",
     "text": [
      "Правильность на обучающем наборе: 0.90\n",
      "Правильность на контрольном наборе: 0.77\n",
      "Количество использованных признаков: 33\n"
     ]
    }
   ],
   "source": [
    "lasso = Lasso(alpha=0.01, max_iter=100000).fit(X_train, y_train)\n",
    "print(\"Правильность на обучающем наборе: {:.2f}\".format(lasso.score(X_train, y_train)))\n",
    "print(\"Правильность на контрольном наборе: {:.2f}\".format(lasso.score(X_test, y_test)))\n",
    "print(\"Количество использованных признаков: {}\".format(np.sum(lasso.coef_ != 0)))"
   ]
  },
  {
   "cell_type": "code",
   "execution_count": null,
   "id": "0bdcc09c",
   "metadata": {},
   "outputs": [],
   "source": []
  }
 ],
 "metadata": {
  "kernelspec": {
   "display_name": "Python 3 (ipykernel)",
   "language": "python",
   "name": "python3"
  },
  "language_info": {
   "codemirror_mode": {
    "name": "ipython",
    "version": 3
   },
   "file_extension": ".py",
   "mimetype": "text/x-python",
   "name": "python",
   "nbconvert_exporter": "python",
   "pygments_lexer": "ipython3",
   "version": "3.10.0"
  }
 },
 "nbformat": 4,
 "nbformat_minor": 5
}
